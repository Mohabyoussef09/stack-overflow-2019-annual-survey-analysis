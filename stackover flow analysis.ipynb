{
 "cells": [
  {
   "cell_type": "code",
   "execution_count": 226,
   "metadata": {},
   "outputs": [],
   "source": [
    "import pandas as pd\n",
    "pd.set_option(\"display.max_columns\", None)\n",
    "import matplotlib.pyplot as plt"
   ]
  },
  {
   "cell_type": "code",
   "execution_count": 185,
   "metadata": {},
   "outputs": [],
   "source": [
    "df2019=pd.read_csv(\"survey_results_public.csv\")\n"
   ]
  },
  {
   "cell_type": "code",
   "execution_count": 216,
   "metadata": {},
   "outputs": [
    {
     "data": {
      "text/html": [
       "<div>\n",
       "<style scoped>\n",
       "    .dataframe tbody tr th:only-of-type {\n",
       "        vertical-align: middle;\n",
       "    }\n",
       "\n",
       "    .dataframe tbody tr th {\n",
       "        vertical-align: top;\n",
       "    }\n",
       "\n",
       "    .dataframe thead th {\n",
       "        text-align: right;\n",
       "    }\n",
       "</style>\n",
       "<table border=\"1\" class=\"dataframe\">\n",
       "  <thead>\n",
       "    <tr style=\"text-align: right;\">\n",
       "      <th></th>\n",
       "      <th>Respondent</th>\n",
       "      <th>MainBranch</th>\n",
       "      <th>Hobbyist</th>\n",
       "      <th>OpenSourcer</th>\n",
       "      <th>OpenSource</th>\n",
       "      <th>Employment</th>\n",
       "      <th>Country</th>\n",
       "      <th>Student</th>\n",
       "      <th>EdLevel</th>\n",
       "      <th>UndergradMajor</th>\n",
       "      <th>EduOther</th>\n",
       "      <th>OrgSize</th>\n",
       "      <th>DevType</th>\n",
       "      <th>YearsCode</th>\n",
       "      <th>Age1stCode</th>\n",
       "      <th>YearsCodePro</th>\n",
       "      <th>CareerSat</th>\n",
       "      <th>JobSat</th>\n",
       "      <th>MgrIdiot</th>\n",
       "      <th>MgrMoney</th>\n",
       "      <th>MgrWant</th>\n",
       "      <th>JobSeek</th>\n",
       "      <th>LastHireDate</th>\n",
       "      <th>LastInt</th>\n",
       "      <th>FizzBuzz</th>\n",
       "      <th>JobFactors</th>\n",
       "      <th>ResumeUpdate</th>\n",
       "      <th>CurrencySymbol</th>\n",
       "      <th>CurrencyDesc</th>\n",
       "      <th>CompTotal</th>\n",
       "      <th>CompFreq</th>\n",
       "      <th>ConvertedComp</th>\n",
       "      <th>WorkWeekHrs</th>\n",
       "      <th>WorkPlan</th>\n",
       "      <th>WorkChallenge</th>\n",
       "      <th>WorkRemote</th>\n",
       "      <th>WorkLoc</th>\n",
       "      <th>ImpSyn</th>\n",
       "      <th>CodeRev</th>\n",
       "      <th>CodeRevHrs</th>\n",
       "      <th>UnitTests</th>\n",
       "      <th>PurchaseHow</th>\n",
       "      <th>PurchaseWhat</th>\n",
       "      <th>LanguageWorkedWith</th>\n",
       "      <th>LanguageDesireNextYear</th>\n",
       "      <th>DatabaseWorkedWith</th>\n",
       "      <th>DatabaseDesireNextYear</th>\n",
       "      <th>PlatformWorkedWith</th>\n",
       "      <th>PlatformDesireNextYear</th>\n",
       "      <th>WebFrameWorkedWith</th>\n",
       "      <th>WebFrameDesireNextYear</th>\n",
       "      <th>MiscTechWorkedWith</th>\n",
       "      <th>MiscTechDesireNextYear</th>\n",
       "      <th>DevEnviron</th>\n",
       "      <th>OpSys</th>\n",
       "      <th>Containers</th>\n",
       "      <th>BlockchainOrg</th>\n",
       "      <th>BlockchainIs</th>\n",
       "      <th>BetterLife</th>\n",
       "      <th>ITperson</th>\n",
       "      <th>OffOn</th>\n",
       "      <th>SocialMedia</th>\n",
       "      <th>Extraversion</th>\n",
       "      <th>ScreenName</th>\n",
       "      <th>SOVisit1st</th>\n",
       "      <th>SOVisitFreq</th>\n",
       "      <th>SOVisitTo</th>\n",
       "      <th>SOFindAnswer</th>\n",
       "      <th>SOTimeSaved</th>\n",
       "      <th>SOHowMuchTime</th>\n",
       "      <th>SOAccount</th>\n",
       "      <th>SOPartFreq</th>\n",
       "      <th>SOJobs</th>\n",
       "      <th>EntTeams</th>\n",
       "      <th>SOComm</th>\n",
       "      <th>WelcomeChange</th>\n",
       "      <th>SONewContent</th>\n",
       "      <th>Age</th>\n",
       "      <th>Gender</th>\n",
       "      <th>Trans</th>\n",
       "      <th>Sexuality</th>\n",
       "      <th>Ethnicity</th>\n",
       "      <th>Dependents</th>\n",
       "      <th>SurveyLength</th>\n",
       "      <th>SurveyEase</th>\n",
       "    </tr>\n",
       "  </thead>\n",
       "  <tbody>\n",
       "    <tr>\n",
       "      <td>79786</td>\n",
       "      <td>80285</td>\n",
       "      <td>I am a developer by profession</td>\n",
       "      <td>Yes</td>\n",
       "      <td>Never</td>\n",
       "      <td>OSS is, on average, of LOWER quality than prop...</td>\n",
       "      <td>Employed full-time</td>\n",
       "      <td>Bulgaria</td>\n",
       "      <td>No</td>\n",
       "      <td>Master’s degree (MA, MS, M.Eng., MBA, etc.)</td>\n",
       "      <td>Information systems, information technology, o...</td>\n",
       "      <td>Taken an online course in programming or softw...</td>\n",
       "      <td>1,000 to 4,999 employees</td>\n",
       "      <td>Developer, back-end;Developer, desktop or ente...</td>\n",
       "      <td>15</td>\n",
       "      <td>18</td>\n",
       "      <td>3</td>\n",
       "      <td>Slightly dissatisfied</td>\n",
       "      <td>Slightly dissatisfied</td>\n",
       "      <td>Somewhat confident</td>\n",
       "      <td>Yes</td>\n",
       "      <td>Yes</td>\n",
       "      <td>I’m not actively looking, but I am open to new...</td>\n",
       "      <td>3-4 years ago</td>\n",
       "      <td>Interview with people in peer roles;Interview ...</td>\n",
       "      <td>No</td>\n",
       "      <td>Financial performance or funding status of the...</td>\n",
       "      <td>I was preparing for a job search</td>\n",
       "      <td>BGN</td>\n",
       "      <td>Bulgarian lev</td>\n",
       "      <td>3300.0</td>\n",
       "      <td>Monthly</td>\n",
       "      <td>23172.0</td>\n",
       "      <td>40.0</td>\n",
       "      <td>There is a schedule and/or spec (made by me or...</td>\n",
       "      <td>Lack of support from management;Toxic work env...</td>\n",
       "      <td>Less than once per month / Never</td>\n",
       "      <td>Office</td>\n",
       "      <td>A little above average</td>\n",
       "      <td>Yes, because I see value in code review</td>\n",
       "      <td>3.0</td>\n",
       "      <td>No, and I'm glad we don't</td>\n",
       "      <td>Developers typically have the most influence o...</td>\n",
       "      <td>I have little or no influence</td>\n",
       "      <td>C#;Java;SQL;Other(s):</td>\n",
       "      <td>C++;C#;Java;SQL</td>\n",
       "      <td>Microsoft SQL Server</td>\n",
       "      <td>Microsoft SQL Server</td>\n",
       "      <td>Windows</td>\n",
       "      <td>Android;Google Cloud Platform;Microsoft Azure;...</td>\n",
       "      <td>NaN</td>\n",
       "      <td>NaN</td>\n",
       "      <td>.NET;Unity 3D</td>\n",
       "      <td>.NET;.NET Core;Unity 3D</td>\n",
       "      <td>Visual Studio</td>\n",
       "      <td>Windows</td>\n",
       "      <td>I do not use containers</td>\n",
       "      <td>Non-currency applications of blockchain</td>\n",
       "      <td>NaN</td>\n",
       "      <td>Yes</td>\n",
       "      <td>Yes</td>\n",
       "      <td>What?</td>\n",
       "      <td>Facebook</td>\n",
       "      <td>In real life (in person)</td>\n",
       "      <td>UserID</td>\n",
       "      <td>2009</td>\n",
       "      <td>Multiple times per day</td>\n",
       "      <td>Find answers to specific questions;Contribute ...</td>\n",
       "      <td>1-2 times per week</td>\n",
       "      <td>Stack Overflow was much faster</td>\n",
       "      <td>11-30 minutes</td>\n",
       "      <td>Yes</td>\n",
       "      <td>A few times per month or weekly</td>\n",
       "      <td>Yes</td>\n",
       "      <td>No, I've heard of them, but I am not part of a...</td>\n",
       "      <td>Yes, definitely</td>\n",
       "      <td>Somewhat more welcome now than last year</td>\n",
       "      <td>Tech articles written by other developers;Cour...</td>\n",
       "      <td>41.0</td>\n",
       "      <td>Man</td>\n",
       "      <td>No</td>\n",
       "      <td>Bisexual</td>\n",
       "      <td>White or of European descent</td>\n",
       "      <td>Yes</td>\n",
       "      <td>Appropriate in length</td>\n",
       "      <td>Easy</td>\n",
       "    </tr>\n",
       "    <tr>\n",
       "      <td>69515</td>\n",
       "      <td>69958</td>\n",
       "      <td>I am a developer by profession</td>\n",
       "      <td>Yes</td>\n",
       "      <td>Less than once per year</td>\n",
       "      <td>OSS is, on average, of HIGHER quality than pro...</td>\n",
       "      <td>Employed full-time</td>\n",
       "      <td>United States</td>\n",
       "      <td>No</td>\n",
       "      <td>Some college/university study without earning ...</td>\n",
       "      <td>Computer science, computer engineering, or sof...</td>\n",
       "      <td>Completed an industry certification program (e...</td>\n",
       "      <td>20 to 99 employees</td>\n",
       "      <td>Developer, desktop or enterprise applications;...</td>\n",
       "      <td>17</td>\n",
       "      <td>11</td>\n",
       "      <td>6</td>\n",
       "      <td>Very satisfied</td>\n",
       "      <td>Neither satisfied nor dissatisfied</td>\n",
       "      <td>NaN</td>\n",
       "      <td>NaN</td>\n",
       "      <td>NaN</td>\n",
       "      <td>I’m not actively looking, but I am open to new...</td>\n",
       "      <td>Less than a year ago</td>\n",
       "      <td>Interview with people in senior / management r...</td>\n",
       "      <td>No</td>\n",
       "      <td>Languages, frameworks, and other technologies ...</td>\n",
       "      <td>I was preparing for a job search</td>\n",
       "      <td>USD</td>\n",
       "      <td>United States dollar</td>\n",
       "      <td>120000.0</td>\n",
       "      <td>Yearly</td>\n",
       "      <td>120000.0</td>\n",
       "      <td>40.0</td>\n",
       "      <td>There is a schedule and/or spec (made by me or...</td>\n",
       "      <td>Distracting work environment;Inadequate access...</td>\n",
       "      <td>Less than once per month / Never</td>\n",
       "      <td>Office</td>\n",
       "      <td>Far above average</td>\n",
       "      <td>Yes, because I see value in code review</td>\n",
       "      <td>4.0</td>\n",
       "      <td>No, and I'm glad we don't</td>\n",
       "      <td>Not sure</td>\n",
       "      <td>I have some influence</td>\n",
       "      <td>C#;HTML/CSS;JavaScript;PHP;SQL;VBA</td>\n",
       "      <td>C++;HTML/CSS;JavaScript;PHP;SQL</td>\n",
       "      <td>Microsoft SQL Server;MySQL</td>\n",
       "      <td>MySQL</td>\n",
       "      <td>Linux;Windows</td>\n",
       "      <td>Android;Linux</td>\n",
       "      <td>ASP.NET;jQuery</td>\n",
       "      <td>jQuery</td>\n",
       "      <td>.NET</td>\n",
       "      <td>NaN</td>\n",
       "      <td>Sublime Text;Visual Studio</td>\n",
       "      <td>Windows</td>\n",
       "      <td>Development;Testing;Production;Outside of work...</td>\n",
       "      <td>NaN</td>\n",
       "      <td>NaN</td>\n",
       "      <td>No</td>\n",
       "      <td>SIGH</td>\n",
       "      <td>Yes</td>\n",
       "      <td>Facebook</td>\n",
       "      <td>Neither</td>\n",
       "      <td>Username</td>\n",
       "      <td>2010</td>\n",
       "      <td>Multiple times per day</td>\n",
       "      <td>Find answers to specific questions;Learn how t...</td>\n",
       "      <td>3-5 times per week</td>\n",
       "      <td>Stack Overflow was much faster</td>\n",
       "      <td>60+ minutes</td>\n",
       "      <td>Yes</td>\n",
       "      <td>A few times per week</td>\n",
       "      <td>No, I knew that Stack Overflow had a job board...</td>\n",
       "      <td>No, I've heard of them, but I am not part of a...</td>\n",
       "      <td>Yes, definitely</td>\n",
       "      <td>Just as welcome now as I felt last year</td>\n",
       "      <td>Tech meetups or events in your area</td>\n",
       "      <td>28.0</td>\n",
       "      <td>Man</td>\n",
       "      <td>No</td>\n",
       "      <td>Gay or Lesbian</td>\n",
       "      <td>White or of European descent</td>\n",
       "      <td>Yes</td>\n",
       "      <td>Appropriate in length</td>\n",
       "      <td>Easy</td>\n",
       "    </tr>\n",
       "  </tbody>\n",
       "</table>\n",
       "</div>"
      ],
      "text/plain": [
       "       Respondent                      MainBranch Hobbyist  \\\n",
       "79786       80285  I am a developer by profession      Yes   \n",
       "69515       69958  I am a developer by profession      Yes   \n",
       "\n",
       "                   OpenSourcer  \\\n",
       "79786                    Never   \n",
       "69515  Less than once per year   \n",
       "\n",
       "                                              OpenSource          Employment  \\\n",
       "79786  OSS is, on average, of LOWER quality than prop...  Employed full-time   \n",
       "69515  OSS is, on average, of HIGHER quality than pro...  Employed full-time   \n",
       "\n",
       "             Country Student  \\\n",
       "79786       Bulgaria      No   \n",
       "69515  United States      No   \n",
       "\n",
       "                                                 EdLevel  \\\n",
       "79786        Master’s degree (MA, MS, M.Eng., MBA, etc.)   \n",
       "69515  Some college/university study without earning ...   \n",
       "\n",
       "                                          UndergradMajor  \\\n",
       "79786  Information systems, information technology, o...   \n",
       "69515  Computer science, computer engineering, or sof...   \n",
       "\n",
       "                                                EduOther  \\\n",
       "79786  Taken an online course in programming or softw...   \n",
       "69515  Completed an industry certification program (e...   \n",
       "\n",
       "                        OrgSize  \\\n",
       "79786  1,000 to 4,999 employees   \n",
       "69515        20 to 99 employees   \n",
       "\n",
       "                                                 DevType YearsCode Age1stCode  \\\n",
       "79786  Developer, back-end;Developer, desktop or ente...        15         18   \n",
       "69515  Developer, desktop or enterprise applications;...        17         11   \n",
       "\n",
       "      YearsCodePro              CareerSat                              JobSat  \\\n",
       "79786            3  Slightly dissatisfied               Slightly dissatisfied   \n",
       "69515            6         Very satisfied  Neither satisfied nor dissatisfied   \n",
       "\n",
       "                 MgrIdiot MgrMoney MgrWant  \\\n",
       "79786  Somewhat confident      Yes     Yes   \n",
       "69515                 NaN      NaN     NaN   \n",
       "\n",
       "                                                 JobSeek  \\\n",
       "79786  I’m not actively looking, but I am open to new...   \n",
       "69515  I’m not actively looking, but I am open to new...   \n",
       "\n",
       "               LastHireDate  \\\n",
       "79786         3-4 years ago   \n",
       "69515  Less than a year ago   \n",
       "\n",
       "                                                 LastInt FizzBuzz  \\\n",
       "79786  Interview with people in peer roles;Interview ...       No   \n",
       "69515  Interview with people in senior / management r...       No   \n",
       "\n",
       "                                              JobFactors  \\\n",
       "79786  Financial performance or funding status of the...   \n",
       "69515  Languages, frameworks, and other technologies ...   \n",
       "\n",
       "                           ResumeUpdate CurrencySymbol          CurrencyDesc  \\\n",
       "79786  I was preparing for a job search            BGN         Bulgarian lev   \n",
       "69515  I was preparing for a job search            USD  United States dollar   \n",
       "\n",
       "       CompTotal CompFreq  ConvertedComp  WorkWeekHrs  \\\n",
       "79786     3300.0  Monthly        23172.0         40.0   \n",
       "69515   120000.0   Yearly       120000.0         40.0   \n",
       "\n",
       "                                                WorkPlan  \\\n",
       "79786  There is a schedule and/or spec (made by me or...   \n",
       "69515  There is a schedule and/or spec (made by me or...   \n",
       "\n",
       "                                           WorkChallenge  \\\n",
       "79786  Lack of support from management;Toxic work env...   \n",
       "69515  Distracting work environment;Inadequate access...   \n",
       "\n",
       "                             WorkRemote WorkLoc                  ImpSyn  \\\n",
       "79786  Less than once per month / Never  Office  A little above average   \n",
       "69515  Less than once per month / Never  Office       Far above average   \n",
       "\n",
       "                                       CodeRev  CodeRevHrs  \\\n",
       "79786  Yes, because I see value in code review         3.0   \n",
       "69515  Yes, because I see value in code review         4.0   \n",
       "\n",
       "                       UnitTests  \\\n",
       "79786  No, and I'm glad we don't   \n",
       "69515  No, and I'm glad we don't   \n",
       "\n",
       "                                             PurchaseHow  \\\n",
       "79786  Developers typically have the most influence o...   \n",
       "69515                                           Not sure   \n",
       "\n",
       "                        PurchaseWhat                  LanguageWorkedWith  \\\n",
       "79786  I have little or no influence               C#;Java;SQL;Other(s):   \n",
       "69515          I have some influence  C#;HTML/CSS;JavaScript;PHP;SQL;VBA   \n",
       "\n",
       "                LanguageDesireNextYear          DatabaseWorkedWith  \\\n",
       "79786                  C++;C#;Java;SQL        Microsoft SQL Server   \n",
       "69515  C++;HTML/CSS;JavaScript;PHP;SQL  Microsoft SQL Server;MySQL   \n",
       "\n",
       "      DatabaseDesireNextYear PlatformWorkedWith  \\\n",
       "79786   Microsoft SQL Server            Windows   \n",
       "69515                  MySQL      Linux;Windows   \n",
       "\n",
       "                                  PlatformDesireNextYear WebFrameWorkedWith  \\\n",
       "79786  Android;Google Cloud Platform;Microsoft Azure;...                NaN   \n",
       "69515                                      Android;Linux     ASP.NET;jQuery   \n",
       "\n",
       "      WebFrameDesireNextYear MiscTechWorkedWith   MiscTechDesireNextYear  \\\n",
       "79786                    NaN      .NET;Unity 3D  .NET;.NET Core;Unity 3D   \n",
       "69515                 jQuery               .NET                      NaN   \n",
       "\n",
       "                       DevEnviron    OpSys  \\\n",
       "79786               Visual Studio  Windows   \n",
       "69515  Sublime Text;Visual Studio  Windows   \n",
       "\n",
       "                                              Containers  \\\n",
       "79786                            I do not use containers   \n",
       "69515  Development;Testing;Production;Outside of work...   \n",
       "\n",
       "                                 BlockchainOrg BlockchainIs BetterLife  \\\n",
       "79786  Non-currency applications of blockchain          NaN        Yes   \n",
       "69515                                      NaN          NaN         No   \n",
       "\n",
       "      ITperson  OffOn SocialMedia              Extraversion ScreenName  \\\n",
       "79786      Yes  What?    Facebook  In real life (in person)     UserID   \n",
       "69515     SIGH    Yes    Facebook                   Neither   Username   \n",
       "\n",
       "      SOVisit1st             SOVisitFreq  \\\n",
       "79786       2009  Multiple times per day   \n",
       "69515       2010  Multiple times per day   \n",
       "\n",
       "                                               SOVisitTo        SOFindAnswer  \\\n",
       "79786  Find answers to specific questions;Contribute ...  1-2 times per week   \n",
       "69515  Find answers to specific questions;Learn how t...  3-5 times per week   \n",
       "\n",
       "                          SOTimeSaved  SOHowMuchTime SOAccount  \\\n",
       "79786  Stack Overflow was much faster  11-30 minutes       Yes   \n",
       "69515  Stack Overflow was much faster    60+ minutes       Yes   \n",
       "\n",
       "                            SOPartFreq  \\\n",
       "79786  A few times per month or weekly   \n",
       "69515             A few times per week   \n",
       "\n",
       "                                                  SOJobs  \\\n",
       "79786                                                Yes   \n",
       "69515  No, I knew that Stack Overflow had a job board...   \n",
       "\n",
       "                                                EntTeams           SOComm  \\\n",
       "79786  No, I've heard of them, but I am not part of a...  Yes, definitely   \n",
       "69515  No, I've heard of them, but I am not part of a...  Yes, definitely   \n",
       "\n",
       "                                  WelcomeChange  \\\n",
       "79786  Somewhat more welcome now than last year   \n",
       "69515   Just as welcome now as I felt last year   \n",
       "\n",
       "                                            SONewContent   Age Gender Trans  \\\n",
       "79786  Tech articles written by other developers;Cour...  41.0    Man    No   \n",
       "69515                Tech meetups or events in your area  28.0    Man    No   \n",
       "\n",
       "            Sexuality                     Ethnicity Dependents  \\\n",
       "79786        Bisexual  White or of European descent        Yes   \n",
       "69515  Gay or Lesbian  White or of European descent        Yes   \n",
       "\n",
       "                SurveyLength SurveyEase  \n",
       "79786  Appropriate in length       Easy  \n",
       "69515  Appropriate in length       Easy  "
      ]
     },
     "execution_count": 216,
     "metadata": {},
     "output_type": "execute_result"
    }
   ],
   "source": [
    "df2019.sample(2)"
   ]
  },
  {
   "cell_type": "code",
   "execution_count": 217,
   "metadata": {},
   "outputs": [
    {
     "data": {
      "text/plain": [
       "array(['Respondent', 'MainBranch', 'Hobbyist', 'OpenSourcer',\n",
       "       'OpenSource', 'Employment', 'Country', 'Student', 'EdLevel',\n",
       "       'UndergradMajor', 'EduOther', 'OrgSize', 'DevType', 'YearsCode',\n",
       "       'Age1stCode', 'YearsCodePro', 'CareerSat', 'JobSat', 'MgrIdiot',\n",
       "       'MgrMoney', 'MgrWant', 'JobSeek', 'LastHireDate', 'LastInt',\n",
       "       'FizzBuzz', 'JobFactors', 'ResumeUpdate', 'CurrencySymbol',\n",
       "       'CurrencyDesc', 'CompTotal', 'CompFreq', 'ConvertedComp',\n",
       "       'WorkWeekHrs', 'WorkPlan', 'WorkChallenge', 'WorkRemote',\n",
       "       'WorkLoc', 'ImpSyn', 'CodeRev', 'CodeRevHrs', 'UnitTests',\n",
       "       'PurchaseHow', 'PurchaseWhat', 'LanguageWorkedWith',\n",
       "       'LanguageDesireNextYear', 'DatabaseWorkedWith',\n",
       "       'DatabaseDesireNextYear', 'PlatformWorkedWith',\n",
       "       'PlatformDesireNextYear', 'WebFrameWorkedWith',\n",
       "       'WebFrameDesireNextYear', 'MiscTechWorkedWith',\n",
       "       'MiscTechDesireNextYear', 'DevEnviron', 'OpSys', 'Containers',\n",
       "       'BlockchainOrg', 'BlockchainIs', 'BetterLife', 'ITperson', 'OffOn',\n",
       "       'SocialMedia', 'Extraversion', 'ScreenName', 'SOVisit1st',\n",
       "       'SOVisitFreq', 'SOVisitTo', 'SOFindAnswer', 'SOTimeSaved',\n",
       "       'SOHowMuchTime', 'SOAccount', 'SOPartFreq', 'SOJobs', 'EntTeams',\n",
       "       'SOComm', 'WelcomeChange', 'SONewContent', 'Age', 'Gender',\n",
       "       'Trans', 'Sexuality', 'Ethnicity', 'Dependents', 'SurveyLength',\n",
       "       'SurveyEase'], dtype=object)"
      ]
     },
     "execution_count": 217,
     "metadata": {},
     "output_type": "execute_result"
    }
   ],
   "source": [
    "colsName=df2019.columns.values\n",
    "colsName"
   ]
  },
  {
   "cell_type": "code",
   "execution_count": 218,
   "metadata": {},
   "outputs": [
    {
     "data": {
      "text/plain": [
       "(88883, 85)"
      ]
     },
     "execution_count": 218,
     "metadata": {},
     "output_type": "execute_result"
    }
   ],
   "source": [
    "df2019.shape"
   ]
  },
  {
   "cell_type": "code",
   "execution_count": 219,
   "metadata": {},
   "outputs": [],
   "source": [
    "#Reqmove duplicate rows\n",
    "df2019.drop_duplicates(inplace = True)\n",
    "#Remove rows with at least 50 column have nan values\n",
    "df2019.dropna(thresh=30,inplace=True)"
   ]
  },
  {
   "cell_type": "code",
   "execution_count": 220,
   "metadata": {},
   "outputs": [
    {
     "data": {
      "text/plain": [
       "Respondent          0\n",
       "MainBranch        400\n",
       "Hobbyist            0\n",
       "OpenSourcer         0\n",
       "OpenSource       1943\n",
       "                ...  \n",
       "Sexuality       12352\n",
       "Ethnicity       11832\n",
       "Dependents       5447\n",
       "SurveyLength     1543\n",
       "SurveyEase       1440\n",
       "Length: 85, dtype: int64"
      ]
     },
     "execution_count": 220,
     "metadata": {},
     "output_type": "execute_result"
    }
   ],
   "source": [
    "#check columns with alot of null values\n",
    "df2019.isnull().sum()"
   ]
  },
  {
   "cell_type": "code",
   "execution_count": 221,
   "metadata": {},
   "outputs": [],
   "source": [
    "data2019=df2019[[\"MainBranch\",'Age','Gender','Employment','Country','EdLevel','OrgSize','YearsCode','DevType','Age1stCode', 'YearsCodePro', 'CareerSat', 'JobSat', 'MgrIdiot','LanguageWorkedWith','WebFrameWorkedWith','WorkRemote','WorkLoc']]"
   ]
  },
  {
   "cell_type": "code",
   "execution_count": 222,
   "metadata": {},
   "outputs": [
    {
     "data": {
      "text/html": [
       "<div>\n",
       "<style scoped>\n",
       "    .dataframe tbody tr th:only-of-type {\n",
       "        vertical-align: middle;\n",
       "    }\n",
       "\n",
       "    .dataframe tbody tr th {\n",
       "        vertical-align: top;\n",
       "    }\n",
       "\n",
       "    .dataframe thead th {\n",
       "        text-align: right;\n",
       "    }\n",
       "</style>\n",
       "<table border=\"1\" class=\"dataframe\">\n",
       "  <thead>\n",
       "    <tr style=\"text-align: right;\">\n",
       "      <th></th>\n",
       "      <th>MainBranch</th>\n",
       "      <th>Age</th>\n",
       "      <th>Gender</th>\n",
       "      <th>Employment</th>\n",
       "      <th>Country</th>\n",
       "      <th>EdLevel</th>\n",
       "      <th>OrgSize</th>\n",
       "      <th>YearsCode</th>\n",
       "      <th>DevType</th>\n",
       "      <th>Age1stCode</th>\n",
       "      <th>YearsCodePro</th>\n",
       "      <th>CareerSat</th>\n",
       "      <th>JobSat</th>\n",
       "      <th>MgrIdiot</th>\n",
       "      <th>LanguageWorkedWith</th>\n",
       "      <th>WebFrameWorkedWith</th>\n",
       "      <th>WorkRemote</th>\n",
       "      <th>WorkLoc</th>\n",
       "    </tr>\n",
       "  </thead>\n",
       "  <tbody>\n",
       "    <tr>\n",
       "      <td>0</td>\n",
       "      <td>I am a student who is learning to code</td>\n",
       "      <td>14.0</td>\n",
       "      <td>Man</td>\n",
       "      <td>Not employed, and not looking for work</td>\n",
       "      <td>United Kingdom</td>\n",
       "      <td>Primary/elementary school</td>\n",
       "      <td>NaN</td>\n",
       "      <td>4</td>\n",
       "      <td>NaN</td>\n",
       "      <td>10</td>\n",
       "      <td>NaN</td>\n",
       "      <td>NaN</td>\n",
       "      <td>NaN</td>\n",
       "      <td>NaN</td>\n",
       "      <td>HTML/CSS;Java;JavaScript;Python</td>\n",
       "      <td>Django;Flask</td>\n",
       "      <td>NaN</td>\n",
       "      <td>NaN</td>\n",
       "    </tr>\n",
       "  </tbody>\n",
       "</table>\n",
       "</div>"
      ],
      "text/plain": [
       "                               MainBranch   Age Gender  \\\n",
       "0  I am a student who is learning to code  14.0    Man   \n",
       "\n",
       "                               Employment         Country  \\\n",
       "0  Not employed, and not looking for work  United Kingdom   \n",
       "\n",
       "                     EdLevel OrgSize YearsCode DevType Age1stCode  \\\n",
       "0  Primary/elementary school     NaN         4     NaN         10   \n",
       "\n",
       "  YearsCodePro CareerSat JobSat MgrIdiot               LanguageWorkedWith  \\\n",
       "0          NaN       NaN    NaN      NaN  HTML/CSS;Java;JavaScript;Python   \n",
       "\n",
       "  WebFrameWorkedWith WorkRemote WorkLoc  \n",
       "0       Django;Flask        NaN     NaN  "
      ]
     },
     "execution_count": 222,
     "metadata": {},
     "output_type": "execute_result"
    }
   ],
   "source": [
    "data2019.head(1)"
   ]
  },
  {
   "cell_type": "markdown",
   "metadata": {},
   "source": [
    "# Top 5 programming languages used in Egypt VS Worldwide"
   ]
  },
  {
   "cell_type": "code",
   "execution_count": 223,
   "metadata": {},
   "outputs": [],
   "source": [
    "#Q1: Top languages used in Egypt\n",
    "\n",
    "def split_column(df, column):\n",
    "    df_copy = df\n",
    "    column_series = df_copy[column].astype(str).apply(lambda x: x.split(';'))\n",
    "    \n",
    "    return column_series\n",
    "\n",
    "def flattenList(l):\n",
    "    return [element for li in l for element in li]\n",
    "\n",
    "def countWordsFromList(l):\n",
    "    d={}\n",
    "    uniqueElements=list(set(l))\n",
    "    for element in uniqueElements:\n",
    "        d[element]=l.count(element)\n",
    "    return d\n",
    "\n",
    "def topNLanguages(d,n):\n",
    "    topItems={}\n",
    "    sortedList=sorted(d, key=d.get, reverse=True)[:n]\n",
    "    for element in sortedList:\n",
    "        topItems[element]=d[element]\n",
    "    return topItems\n",
    "        \n",
    "\n",
    "def topNFromCol(df=None,colName=\"LanguageWorkedWith\",country=\"all\",topN=5):\n",
    "    if country!=\"all\":\n",
    "        data=df[df[\"Country\"]==country]\n",
    "    else:\n",
    "        data=df\n",
    "    worked_lang_2019 = split_column(data,colName)\n",
    "    flattenLanguagesList=flattenList(list(worked_lang_2019))\n",
    "    languageCount=countWordsFromList(flattenLanguagesList)\n",
    "    topLanguages=topNLanguages(languageCount,topN)\n",
    "    return topLanguages\n"
   ]
  },
  {
   "cell_type": "code",
   "execution_count": 224,
   "metadata": {},
   "outputs": [],
   "source": [
    "topLanguages2019=topNFromCol(data2019,'LanguageWorkedWith',\"Egypt\",5) "
   ]
  },
  {
   "cell_type": "code",
   "execution_count": 225,
   "metadata": {},
   "outputs": [
    {
     "data": {
      "image/png": "[encoded data removed]",
      "text/plain": [
       "<Figure size 432x288 with 1 Axes>"
      ]
     },
     "metadata": {
      "needs_background": "light"
     },
     "output_type": "display_data"
    }
   ],
   "source": [
    "keys = topLanguages2019.keys()\n",
    "values = topLanguages2019.values()\n",
    "plt.title(\"Top 5 Programming Languages Used in Egypt\")\n",
    "plt.xlabel(\"Programming Language\")\n",
    "plt.ylabel(\"Number of Developers\")\n",
    "plt.bar(keys, values)\n",
    "plt.show()"
   ]
  },
  {
   "cell_type": "markdown",
   "metadata": {},
   "source": [
    "# Percentage of developers with a different gender"
   ]
  },
  {
   "cell_type": "code",
   "execution_count": 227,
   "metadata": {},
   "outputs": [
    {
     "data": {
      "text/plain": [
       "array(['Man', nan, 'Woman',\n",
       "       'Non-binary, genderqueer, or gender non-conforming',\n",
       "       'Woman;Non-binary, genderqueer, or gender non-conforming',\n",
       "       'Woman;Man;Non-binary, genderqueer, or gender non-conforming',\n",
       "       'Woman;Man',\n",
       "       'Man;Non-binary, genderqueer, or gender non-conforming'],\n",
       "      dtype=object)"
      ]
     },
     "execution_count": 227,
     "metadata": {},
     "output_type": "execute_result"
    }
   ],
   "source": [
    "data2019[\"Gender\"].unique()"
   ]
  },
  {
   "cell_type": "code",
   "execution_count": 228,
   "metadata": {},
   "outputs": [],
   "source": [
    "def genderPercentage(data,country):\n",
    "    if country!=\"all\":\n",
    "        data=df[df[\"Country\"]==country]\n",
    "    else:\n",
    "        data=df\n",
    "   \n",
    "    maleDevPercentage=(data[\"Gender\"]==\"Man\").mean()\n",
    "    femaleDevPercentage=(data[\"Gender\"]==\"Woman\").mean()\n",
    "    otherDev=1-maleDevPercentage-femaleDevPercentage\n",
    "    devolperGender=[maleDevPercentage,femaleDevPercentage,otherDev]\n",
    "    \n",
    "    return devolperGender\n"
   ]
  },
  {
   "cell_type": "code",
   "execution_count": 229,
   "metadata": {},
   "outputs": [
    {
     "data": {
      "text/plain": [
       "([<matplotlib.patches.Wedge at 0x24adf5667c8>,\n",
       "  <matplotlib.patches.Wedge at 0x24adcac7208>,\n",
       "  <matplotlib.patches.Wedge at 0x24add7e46c8>],\n",
       " [Text(-1.023160796250827, 0.4039083869089305, 'Male'),\n",
       "  Text(0.9507413431490352, -0.5532548223261761, 'Female'),\n",
       "  Text(1.0874777684584536, -0.16550559842078555, 'Others')],\n",
       " [Text(-0.5580877070459055, 0.22031366558668933, '88.0%'),\n",
       "  Text(0.518586187172201, -0.3017753576324596, '7.2%'),\n",
       "  Text(0.5931696918864291, -0.09027578095679212, '4.8%')])"
      ]
     },
     "execution_count": 229,
     "metadata": {},
     "output_type": "execute_result"
    },
    {
     "data": {
      "image/png": "[encoded data removed]",
      "text/plain": [
       "<Figure size 432x288 with 1 Axes>"
      ]
     },
     "metadata": {},
     "output_type": "display_data"
    }
   ],
   "source": [
    "devolperGender=genderPercentage(data2019,\"all\")\n",
    "label=\"Male\",\"Female\",\"Others\"\n",
    "plt.title(\"Percentage of each developer gender Worldwide\")\n",
    "plt.pie(devolperGender, labels=label,autopct='%1.1f%%')"
   ]
  },
  {
   "cell_type": "markdown",
   "metadata": {},
   "source": [
    "# Most used web framework in Egypt VS Worldwide"
   ]
  },
  {
   "cell_type": "code",
   "execution_count": 230,
   "metadata": {},
   "outputs": [
    {
     "name": "stderr",
     "output_type": "stream",
     "text": [
      "C:\\Users\\Administrator\\Anaconda3\\lib\\site-packages\\ipykernel_launcher.py:1: SettingWithCopyWarning: \n",
      "A value is trying to be set on a copy of a slice from a DataFrame\n",
      "\n",
      "See the caveats in the documentation: http://pandas.pydata.org/pandas-docs/stable/user_guide/indexing.html#returning-a-view-versus-a-copy\n",
      "  \"\"\"Entry point for launching an IPython kernel.\n"
     ]
    }
   ],
   "source": [
    "data2019.dropna(subset = [\"WebFrameWorkedWith\"], inplace=True)"
   ]
  },
  {
   "cell_type": "code",
   "execution_count": 231,
   "metadata": {},
   "outputs": [],
   "source": [
    "topWebFrameworkUsed=topNFromCol(data2019,'WebFrameWorkedWith',\"Egypt\",5) "
   ]
  },
  {
   "cell_type": "code",
   "execution_count": 232,
   "metadata": {},
   "outputs": [
    {
     "data": {
      "image/png": "[encoded data removed]",
      "text/plain": [
       "<Figure size 432x288 with 1 Axes>"
      ]
     },
     "metadata": {
      "needs_background": "light"
     },
     "output_type": "display_data"
    }
   ],
   "source": [
    "import matplotlib.pyplot as plt\n",
    "keys = list(topWebFrameworkUsed.keys())\n",
    "keys[1]=\"Angular\"\n",
    "values = list(topWebFrameworkUsed.values())\n",
    "plt.title(\"Most used web frameworks in Egypt\")\n",
    "plt.xlabel(\"Web Framework\")\n",
    "plt.ylabel(\"Number of Developers\")\n",
    "plt.bar(keys, values)\n",
    "plt.show()"
   ]
  },
  {
   "cell_type": "markdown",
   "metadata": {},
   "source": [
    "# Work from Office VS work from home"
   ]
  },
  {
   "cell_type": "code",
   "execution_count": 233,
   "metadata": {},
   "outputs": [
    {
     "data": {
      "text/plain": [
       "array([nan, 'Office', 'Other place, such as a coworking space or cafe',\n",
       "       'Home'], dtype=object)"
      ]
     },
     "execution_count": 233,
     "metadata": {},
     "output_type": "execute_result"
    }
   ],
   "source": [
    "data2019['WorkLoc'].unique()"
   ]
  },
  {
   "cell_type": "code",
   "execution_count": 234,
   "metadata": {},
   "outputs": [
    {
     "name": "stderr",
     "output_type": "stream",
     "text": [
      "C:\\Users\\Administrator\\Anaconda3\\lib\\site-packages\\ipykernel_launcher.py:1: SettingWithCopyWarning: \n",
      "A value is trying to be set on a copy of a slice from a DataFrame\n",
      "\n",
      "See the caveats in the documentation: http://pandas.pydata.org/pandas-docs/stable/user_guide/indexing.html#returning-a-view-versus-a-copy\n",
      "  \"\"\"Entry point for launching an IPython kernel.\n"
     ]
    }
   ],
   "source": [
    "data2019.dropna(subset = [\"WorkLoc\"], inplace=True)"
   ]
  },
  {
   "cell_type": "code",
   "execution_count": 235,
   "metadata": {},
   "outputs": [
    {
     "data": {
      "text/plain": [
       "array(['Office', 'Other place, such as a coworking space or cafe', 'Home'],\n",
       "      dtype=object)"
      ]
     },
     "execution_count": 235,
     "metadata": {},
     "output_type": "execute_result"
    }
   ],
   "source": [
    "data2019['WorkLoc'].unique()"
   ]
  },
  {
   "cell_type": "code",
   "execution_count": 249,
   "metadata": {},
   "outputs": [],
   "source": [
    "def workLocation(data,country):\n",
    "    if country!=\"all\":\n",
    "        data=data.query(\"Country=='{}'\".format(country))\n",
    "    else:\n",
    "        data=df\n",
    "    Office=len(data[data['WorkLoc']==\"Office\"])\n",
    "    home=len(data[data['WorkLoc']==\"Home\"])\n",
    "    OtherPlace=len(data[data['WorkLoc']==\"Other place, such as a coworking space or cafe\"])\n",
    "    \n",
    "    workLocation={\"Office\":Office,\"Home\":home,\"OtherPlace\":OtherPlace}\n",
    "    return workLocation"
   ]
  },
  {
   "cell_type": "code",
   "execution_count": 251,
   "metadata": {},
   "outputs": [
    {
     "data": {
      "image/png": "[encoded data removed]",
      "text/plain": [
       "<Figure size 432x288 with 1 Axes>"
      ]
     },
     "metadata": {
      "needs_background": "light"
     },
     "output_type": "display_data"
    }
   ],
   "source": [
    "import matplotlib.pyplot as plt\n",
    "work=workLocation(data,\"Egypt\")\n",
    "keys = work.keys()\n",
    "values = work.values()\n",
    "plt.title(\"Work Location/Environment in Egypt\")\n",
    "plt.xlabel(\"Work Location\")\n",
    "plt.ylabel(\"Number of Developers\")\n",
    "plt.bar(keys, values)\n",
    "plt.show()"
   ]
  },
  {
   "cell_type": "markdown",
   "metadata": {},
   "source": [
    "# Q5: Number of working from home per week"
   ]
  },
  {
   "cell_type": "code",
   "execution_count": 252,
   "metadata": {},
   "outputs": [
    {
     "data": {
      "text/plain": [
       "array(['A few days each month',\n",
       "       \"All or almost all the time (I'm full-time remote)\",\n",
       "       'Less than once per month / Never',\n",
       "       'More than half, but not all, the time',\n",
       "       'Less than half the time, but at least one day each week',\n",
       "       'About half the time', \"It's complicated\", nan], dtype=object)"
      ]
     },
     "execution_count": 252,
     "metadata": {},
     "output_type": "execute_result"
    }
   ],
   "source": [
    "data2019[\"WorkRemote\"].unique()"
   ]
  },
  {
   "cell_type": "code",
   "execution_count": 253,
   "metadata": {},
   "outputs": [
    {
     "name": "stderr",
     "output_type": "stream",
     "text": [
      "C:\\Users\\Administrator\\Anaconda3\\lib\\site-packages\\ipykernel_launcher.py:1: SettingWithCopyWarning: \n",
      "A value is trying to be set on a copy of a slice from a DataFrame\n",
      "\n",
      "See the caveats in the documentation: http://pandas.pydata.org/pandas-docs/stable/user_guide/indexing.html#returning-a-view-versus-a-copy\n",
      "  \"\"\"Entry point for launching an IPython kernel.\n"
     ]
    }
   ],
   "source": [
    "data2019.dropna(subset = [\"WorkRemote\"], inplace=True)"
   ]
  },
  {
   "cell_type": "code",
   "execution_count": 254,
   "metadata": {},
   "outputs": [
    {
     "data": {
      "text/plain": [
       "{nan: 0.0,\n",
       " 'Less than once per month / Never': 0.25,\n",
       " 'A few days each month': 0.15,\n",
       " \"All or almost all the time (I'm full-time remote)\": 0.08,\n",
       " 'More than half, but not all, the time': 0.02,\n",
       " 'Less than half the time, but at least one day each week': 0.06,\n",
       " 'About half the time': 0.02,\n",
       " \"It's complicated\": 0.03}"
      ]
     },
     "execution_count": 254,
     "metadata": {},
     "output_type": "execute_result"
    }
   ],
   "source": [
    "d={}\n",
    "for state in data[\"WorkRemote\"].unique():\n",
    "    d[state]=round(len(data2019[data2019['WorkRemote']==state])/len(data),2)\n",
    "d\n"
   ]
  },
  {
   "cell_type": "code",
   "execution_count": 255,
   "metadata": {},
   "outputs": [
    {
     "data": {
      "image/png": "[encoded data removed]",
      "text/plain": [
       "<Figure size 432x288 with 1 Axes>"
      ]
     },
     "metadata": {},
     "output_type": "display_data"
    }
   ],
   "source": [
    "import matplotlib.pyplot as plt\n",
    "\n",
    "keys = list(d.keys())\n",
    "values = list(d.values())\n",
    "\n",
    "plt.pie(values,labels=keys,autopct='%1.1f%%')\n",
    "plt.show()"
   ]
  },
  {
   "cell_type": "code",
   "execution_count": null,
   "metadata": {},
   "outputs": [],
   "source": []
  },
  {
   "cell_type": "code",
   "execution_count": null,
   "metadata": {},
   "outputs": [],
   "source": []
  },
  {
   "cell_type": "code",
   "execution_count": null,
   "metadata": {},
   "outputs": [],
   "source": []
  },
  {
   "cell_type": "code",
   "execution_count": null,
   "metadata": {},
   "outputs": [],
   "source": []
  },
  {
   "cell_type": "code",
   "execution_count": null,
   "metadata": {},
   "outputs": [],
   "source": []
  }
 ],
 "metadata": {
  "kernelspec": {
   "display_name": "Python 3",
   "language": "python",
   "name": "python3"
  },
  "language_info": {
   "codemirror_mode": {
    "name": "ipython",
    "version": 3
   },
   "file_extension": ".py",
   "mimetype": "text/x-python",
   "name": "python",
   "nbconvert_exporter": "python",
   "pygments_lexer": "ipython3",
   "version": "3.7.4"
  }
 },
 "nbformat": 4,
 "nbformat_minor": 2
}
